{
 "cells": [
  {
   "cell_type": "code",
   "execution_count": 3,
   "metadata": {},
   "outputs": [],
   "source": [
    "from deeppavlov import configs, build_model"
   ]
  },
  {
   "cell_type": "code",
   "execution_count": 4,
   "metadata": {},
   "outputs": [
    {
     "name": "stderr",
     "output_type": "stream",
     "text": [
      "2020-03-07 07:25:14.223 INFO in 'deeppavlov.core.data.utils'['utils'] at line 80: Downloading from http://files.deeppavlov.ai/deeppavlov_data/ner_rus_bert_v1.tar.gz to C:\\Users\\User\\.deeppavlov\\ner_rus_bert_v1.tar.gz\n",
      "100%|██████████████████████████████████████████████████████████████████████████████████████████████████████████████████████████████████████████████████████████████████████████████████████████| 1.32G/1.32G [04:19<00:00, 5.08MB/s]\n",
      "2020-03-07 07:29:33.573 INFO in 'deeppavlov.core.data.utils'['utils'] at line 237: Extracting C:\\Users\\User\\.deeppavlov\\ner_rus_bert_v1.tar.gz archive into C:\\Users\\User\\.deeppavlov\\models\n",
      "2020-03-07 07:29:50.475 INFO in 'deeppavlov.core.data.utils'['utils'] at line 80: Downloading from http://files.deeppavlov.ai/deeppavlov_data/bert/rubert_cased_L-12_H-768_A-12_v1.tar.gz to C:\\Users\\User\\.deeppavlov\\downloads\\rubert_cased_L-12_H-768_A-12_v1.tar.gz\n",
      "100%|████████████████████████████████████████████████████████████████████████████████████████████████████████████████████████████████████████████████████████████████████████████████████████████| 666M/666M [01:55<00:00, 5.79MB/s]\n",
      "2020-03-07 07:31:45.545 INFO in 'deeppavlov.core.data.utils'['utils'] at line 237: Extracting C:\\Users\\User\\.deeppavlov\\downloads\\rubert_cased_L-12_H-768_A-12_v1.tar.gz archive into C:\\Users\\User\\.deeppavlov\\downloads\\bert_models\n",
      "[nltk_data] Downloading package punkt to\n",
      "[nltk_data]     C:\\Users\\User\\AppData\\Roaming\\nltk_data...\n",
      "[nltk_data]   Unzipping tokenizers\\punkt.zip.\n",
      "[nltk_data] Downloading package stopwords to\n",
      "[nltk_data]     C:\\Users\\User\\AppData\\Roaming\\nltk_data...\n",
      "[nltk_data]   Unzipping corpora\\stopwords.zip.\n",
      "[nltk_data] Downloading package perluniprops to\n",
      "[nltk_data]     C:\\Users\\User\\AppData\\Roaming\\nltk_data...\n",
      "[nltk_data]   Unzipping misc\\perluniprops.zip.\n",
      "[nltk_data] Downloading package nonbreaking_prefixes to\n",
      "[nltk_data]     C:\\Users\\User\\AppData\\Roaming\\nltk_data...\n",
      "[nltk_data]   Unzipping corpora\\nonbreaking_prefixes.zip.\n"
     ]
    },
    {
     "name": "stdout",
     "output_type": "stream",
     "text": [
      "WARNING:tensorflow:From c:\\users\\user\\pycharmprojects\\news_parser\\venv\\lib\\site-packages\\bert_dp\\tokenization.py:125: The name tf.gfile.GFile is deprecated. Please use tf.io.gfile.GFile instead.\n",
      "\n"
     ]
    },
    {
     "name": "stderr",
     "output_type": "stream",
     "text": [
      "2020-03-07 07:32:11.364 INFO in 'deeppavlov.core.data.simple_vocab'['simple_vocab'] at line 115: [loading vocabulary from C:\\Users\\User\\.deeppavlov\\models\\ner_rus_bert\\tag.dict]\n"
     ]
    },
    {
     "name": "stdout",
     "output_type": "stream",
     "text": [
      "WARNING:tensorflow:From c:\\users\\user\\pycharmprojects\\news_parser\\venv\\lib\\site-packages\\deeppavlov\\core\\models\\tf_model.py:37: The name tf.Session is deprecated. Please use tf.compat.v1.Session instead.\n",
      "\n",
      "WARNING:tensorflow:From c:\\users\\user\\pycharmprojects\\news_parser\\venv\\lib\\site-packages\\deeppavlov\\core\\models\\tf_model.py:222: The name tf.placeholder is deprecated. Please use tf.compat.v1.placeholder instead.\n",
      "\n",
      "WARNING:tensorflow:From c:\\users\\user\\pycharmprojects\\news_parser\\venv\\lib\\site-packages\\deeppavlov\\core\\models\\tf_model.py:222: The name tf.train.Optimizer is deprecated. Please use tf.compat.v1.train.Optimizer instead.\n",
      "\n",
      "WARNING:tensorflow:From c:\\users\\user\\pycharmprojects\\news_parser\\venv\\lib\\site-packages\\deeppavlov\\core\\models\\tf_model.py:193: The name tf.train.AdamOptimizer is deprecated. Please use tf.compat.v1.train.AdamOptimizer instead.\n",
      "\n",
      "WARNING:tensorflow:From c:\\users\\user\\pycharmprojects\\news_parser\\venv\\lib\\site-packages\\deeppavlov\\models\\bert\\bert_sequence_tagger.py:236: The name tf.ConfigProto is deprecated. Please use tf.compat.v1.ConfigProto instead.\n",
      "\n",
      "WARNING:tensorflow:From c:\\users\\user\\pycharmprojects\\news_parser\\venv\\lib\\site-packages\\deeppavlov\\models\\bert\\bert_sequence_tagger.py:314: The name tf.placeholder_with_default is deprecated. Please use tf.compat.v1.placeholder_with_default instead.\n",
      "\n",
      "WARNING:tensorflow:From c:\\users\\user\\pycharmprojects\\news_parser\\venv\\lib\\site-packages\\bert_dp\\modeling.py:178: The name tf.variable_scope is deprecated. Please use tf.compat.v1.variable_scope instead.\n",
      "\n",
      "WARNING:tensorflow:From c:\\users\\user\\pycharmprojects\\news_parser\\venv\\lib\\site-packages\\bert_dp\\modeling.py:418: The name tf.get_variable is deprecated. Please use tf.compat.v1.get_variable instead.\n",
      "\n",
      "WARNING:tensorflow:From c:\\users\\user\\pycharmprojects\\news_parser\\venv\\lib\\site-packages\\bert_dp\\modeling.py:499: The name tf.assert_less_equal is deprecated. Please use tf.compat.v1.assert_less_equal instead.\n",
      "\n",
      "WARNING:tensorflow:\n",
      "The TensorFlow contrib module will not be included in TensorFlow 2.0.\n",
      "For more information, please see:\n",
      "  * https://github.com/tensorflow/community/blob/master/rfcs/20180907-contrib-sunset.md\n",
      "  * https://github.com/tensorflow/addons\n",
      "  * https://github.com/tensorflow/io (for I/O related ops)\n",
      "If you depend on functionality not listed there, please file an issue.\n",
      "\n",
      "WARNING:tensorflow:From c:\\users\\user\\pycharmprojects\\news_parser\\venv\\lib\\site-packages\\bert_dp\\modeling.py:366: calling dropout (from tensorflow.python.ops.nn_ops) with keep_prob is deprecated and will be removed in a future version.\n",
      "Instructions for updating:\n",
      "Please use `rate` instead of `keep_prob`. Rate should be set to `rate = 1 - keep_prob`.\n",
      "WARNING:tensorflow:From c:\\users\\user\\pycharmprojects\\news_parser\\venv\\lib\\site-packages\\bert_dp\\modeling.py:680: dense (from tensorflow.python.layers.core) is deprecated and will be removed in a future version.\n",
      "Instructions for updating:\n",
      "Use keras.layers.Dense instead.\n",
      "WARNING:tensorflow:From c:\\users\\user\\pycharmprojects\\news_parser\\venv\\lib\\site-packages\\tensorflow_core\\python\\layers\\core.py:187: Layer.apply (from tensorflow.python.keras.engine.base_layer) is deprecated and will be removed in a future version.\n",
      "Instructions for updating:\n",
      "Please use `layer.__call__` method instead.\n",
      "WARNING:tensorflow:From c:\\users\\user\\pycharmprojects\\news_parser\\venv\\lib\\site-packages\\bert_dp\\modeling.py:283: The name tf.erf is deprecated. Please use tf.math.erf instead.\n",
      "\n",
      "WARNING:tensorflow:Variable *= will be deprecated. Use `var.assign(var * other)` if you want assignment to the variable value or `x = x * y` if you want a new python Tensor object.\n",
      "WARNING:tensorflow:From c:\\users\\user\\pycharmprojects\\news_parser\\venv\\lib\\site-packages\\deeppavlov\\models\\bert\\bert_sequence_tagger.py:75: where (from tensorflow.python.ops.array_ops) is deprecated and will be removed in a future version.\n",
      "Instructions for updating:\n",
      "Use tf.where in 2.0, which has the same broadcast rule as np.where\n",
      "WARNING:tensorflow:From c:\\users\\user\\pycharmprojects\\news_parser\\venv\\lib\\site-packages\\tensorflow_core\\contrib\\crf\\python\\ops\\crf.py:213: dynamic_rnn (from tensorflow.python.ops.rnn) is deprecated and will be removed in a future version.\n",
      "Instructions for updating:\n",
      "Please use `keras.layers.RNN(cell)`, which is equivalent to this API\n",
      "WARNING:tensorflow:From c:\\users\\user\\pycharmprojects\\news_parser\\venv\\lib\\site-packages\\deeppavlov\\core\\models\\tf_model.py:131: The name tf.get_collection is deprecated. Please use tf.compat.v1.get_collection instead.\n",
      "\n",
      "WARNING:tensorflow:From c:\\users\\user\\pycharmprojects\\news_parser\\venv\\lib\\site-packages\\deeppavlov\\core\\models\\tf_model.py:131: The name tf.GraphKeys is deprecated. Please use tf.compat.v1.GraphKeys instead.\n",
      "\n",
      "WARNING:tensorflow:From c:\\users\\user\\pycharmprojects\\news_parser\\venv\\lib\\site-packages\\deeppavlov\\core\\models\\tf_model.py:94: The name tf.global_variables is deprecated. Please use tf.compat.v1.global_variables instead.\n",
      "\n",
      "WARNING:tensorflow:From c:\\users\\user\\pycharmprojects\\news_parser\\venv\\lib\\site-packages\\tensorflow_core\\python\\training\\moving_averages.py:433: Variable.initialized_value (from tensorflow.python.ops.variables) is deprecated and will be removed in a future version.\n",
      "Instructions for updating:\n",
      "Use Variable.read_value. Variables in 2.X are initialized automatically both in eager and graph (inside tf.defun) contexts.\n",
      "WARNING:tensorflow:From c:\\users\\user\\pycharmprojects\\news_parser\\venv\\lib\\site-packages\\deeppavlov\\models\\bert\\bert_sequence_tagger.py:671: The name tf.assign is deprecated. Please use tf.compat.v1.assign instead.\n",
      "\n",
      "WARNING:tensorflow:From c:\\users\\user\\pycharmprojects\\news_parser\\venv\\lib\\site-packages\\deeppavlov\\models\\bert\\bert_sequence_tagger.py:244: The name tf.global_variables_initializer is deprecated. Please use tf.compat.v1.global_variables_initializer instead.\n",
      "\n",
      "WARNING:tensorflow:From c:\\users\\user\\pycharmprojects\\news_parser\\venv\\lib\\site-packages\\deeppavlov\\models\\bert\\bert_sequence_tagger.py:249: checkpoint_exists (from tensorflow.python.training.checkpoint_management) is deprecated and will be removed in a future version.\n",
      "Instructions for updating:\n",
      "Use standard file APIs to check for files with this prefix.\n"
     ]
    },
    {
     "name": "stderr",
     "output_type": "stream",
     "text": [
      "2020-03-07 07:32:43.743 INFO in 'deeppavlov.core.models.tf_model'['tf_model'] at line 51: [loading model from C:\\Users\\User\\.deeppavlov\\models\\ner_rus_bert\\model]\n"
     ]
    },
    {
     "name": "stdout",
     "output_type": "stream",
     "text": [
      "WARNING:tensorflow:From c:\\users\\user\\pycharmprojects\\news_parser\\venv\\lib\\site-packages\\deeppavlov\\core\\models\\tf_model.py:54: The name tf.train.Saver is deprecated. Please use tf.compat.v1.train.Saver instead.\n",
      "\n",
      "INFO:tensorflow:Restoring parameters from C:\\Users\\User\\.deeppavlov\\models\\ner_rus_bert\\model\n"
     ]
    }
   ],
   "source": [
    "ner_model = build_model(configs.ner.ner_rus_bert, download=True)"
   ]
  },
  {
   "cell_type": "code",
   "execution_count": 8,
   "metadata": {},
   "outputs": [
    {
     "data": {
      "text/plain": [
       "[[['\\n',\n",
       "   'Андрей',\n",
       "   'Чернов',\n",
       "   'по',\n",
       "   'делу',\n",
       "   '«',\n",
       "   'Сети',\n",
       "   '»',\n",
       "   'приговорен',\n",
       "   'к',\n",
       "   '14',\n",
       "   'годам',\n",
       "   'колонии',\n",
       "   'строгого',\n",
       "   'режима',\n",
       "   ',',\n",
       "   'Максим',\n",
       "   'Иванкин',\n",
       "   '—',\n",
       "   'к',\n",
       "   '13',\n",
       "   'годам',\n",
       "   'по',\n",
       "   'обвинению',\n",
       "   'в',\n",
       "   'участии',\n",
       "   'в',\n",
       "   'террористическом',\n",
       "   'сообществе',\n",
       "   'и',\n",
       "   'попытке',\n",
       "   'сбыта',\n",
       "   'наркотиков',\n",
       "   'в',\n",
       "   'крупном',\n",
       "   'размере',\n",
       "   '.',\n",
       "   '\\n']],\n",
       " [['O',\n",
       "   'B-PER',\n",
       "   'I-PER',\n",
       "   'O',\n",
       "   'O',\n",
       "   'O',\n",
       "   'B-ORG',\n",
       "   'O',\n",
       "   'O',\n",
       "   'O',\n",
       "   'O',\n",
       "   'O',\n",
       "   'O',\n",
       "   'O',\n",
       "   'O',\n",
       "   'O',\n",
       "   'B-PER',\n",
       "   'I-PER',\n",
       "   'O',\n",
       "   'O',\n",
       "   'O',\n",
       "   'O',\n",
       "   'O',\n",
       "   'O',\n",
       "   'O',\n",
       "   'O',\n",
       "   'O',\n",
       "   'O',\n",
       "   'O',\n",
       "   'O',\n",
       "   'O',\n",
       "   'O',\n",
       "   'O',\n",
       "   'O',\n",
       "   'O',\n",
       "   'O',\n",
       "   'O',\n",
       "   'O']]]"
      ]
     },
     "execution_count": 8,
     "metadata": {},
     "output_type": "execute_result"
    }
   ],
   "source": [
    "ner_model(['''\n",
    "Андрей Чернов по делу «Сети» приговорен к 14 годам колонии строгого режима, Максим Иванкин — к 13 годам по обвинению в участии в террористическом сообществе и попытке сбыта наркотиков в крупном размере.\n",
    "'''])\n"
   ]
  },
  {
   "cell_type": "code",
   "execution_count": null,
   "metadata": {},
   "outputs": [],
   "source": []
  }
 ],
 "metadata": {
  "kernelspec": {
   "display_name": "Python 3",
   "language": "python",
   "name": "python3"
  },
  "language_info": {
   "codemirror_mode": {
    "name": "ipython",
    "version": 3
   },
   "file_extension": ".py",
   "mimetype": "text/x-python",
   "name": "python",
   "nbconvert_exporter": "python",
   "pygments_lexer": "ipython3",
   "version": "3.7.6"
  }
 },
 "nbformat": 4,
 "nbformat_minor": 4
}
