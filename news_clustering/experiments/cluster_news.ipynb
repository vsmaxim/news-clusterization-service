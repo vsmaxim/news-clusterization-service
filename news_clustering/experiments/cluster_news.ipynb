{
 "cells": [
  {
   "cell_type": "code",
   "execution_count": 1,
   "metadata": {},
   "outputs": [],
   "source": [
    "from sklearn.cluster import AgglomerativeClustering\n",
    "import pandas as pd\n",
    "import numpy as np"
   ]
  },
  {
   "cell_type": "code",
   "execution_count": 2,
   "metadata": {},
   "outputs": [],
   "source": [
    "df = pd.read_pickle(\"../datasets/lenta-ru-news-embedded.pkl\")"
   ]
  },
  {
   "cell_type": "code",
   "execution_count": 17,
   "metadata": {},
   "outputs": [
    {
     "data": {
      "text/html": [
       "<div>\n",
       "<style scoped>\n",
       "    .dataframe tbody tr th:only-of-type {\n",
       "        vertical-align: middle;\n",
       "    }\n",
       "\n",
       "    .dataframe tbody tr th {\n",
       "        vertical-align: top;\n",
       "    }\n",
       "\n",
       "    .dataframe thead th {\n",
       "        text-align: right;\n",
       "    }\n",
       "</style>\n",
       "<table border=\"1\" class=\"dataframe\">\n",
       "  <thead>\n",
       "    <tr style=\"text-align: right;\">\n",
       "      <th></th>\n",
       "      <th>url</th>\n",
       "      <th>title</th>\n",
       "      <th>text</th>\n",
       "      <th>topic</th>\n",
       "      <th>tags</th>\n",
       "      <th>date</th>\n",
       "      <th>title_embeddings</th>\n",
       "      <th>text_embeddings</th>\n",
       "      <th>cluster_id</th>\n",
       "    </tr>\n",
       "  </thead>\n",
       "  <tbody>\n",
       "    <tr>\n",
       "      <th>0</th>\n",
       "      <td>https://lenta.ru/news/2020/04/01/pension/</td>\n",
       "      <td>В России выросли минимальные пенсии</td>\n",
       "      <td>В России с 1 апреля 2020 года социальные пенси...</td>\n",
       "      <td>NaN</td>\n",
       "      <td>Госэкономика</td>\n",
       "      <td>2020-04-01</td>\n",
       "      <td>[-0.052612055, 0.2722607, -0.14449318, 0.04195...</td>\n",
       "      <td>[[0.009775764, 0.07573057, -0.039965995, -0.06...</td>\n",
       "      <td>6135</td>\n",
       "    </tr>\n",
       "    <tr>\n",
       "      <th>1</th>\n",
       "      <td>https://lenta.ru/news/2020/04/01/gosdep/</td>\n",
       "      <td>В США от коронавируса впервые умер чиновник Го...</td>\n",
       "      <td>В США впервые умер чиновник Госдепартамента от...</td>\n",
       "      <td>NaN</td>\n",
       "      <td>Политика</td>\n",
       "      <td>2020-04-01</td>\n",
       "      <td>[0.090374745, 0.092075, 0.01641604, -0.0920282...</td>\n",
       "      <td>[[0.06525214, -0.026824981, 0.03698051, -0.125...</td>\n",
       "      <td>5767</td>\n",
       "    </tr>\n",
       "    <tr>\n",
       "      <th>2</th>\n",
       "      <td>https://lenta.ru/news/2020/04/01/student/</td>\n",
       "      <td>Врачи несколько раз отказали студенту в тесте ...</td>\n",
       "      <td>Врачи отказались проверять студента американск...</td>\n",
       "      <td>NaN</td>\n",
       "      <td>Люди</td>\n",
       "      <td>2020-04-01</td>\n",
       "      <td>[-0.09805635, 0.08675916, 0.052997965, -0.1261...</td>\n",
       "      <td>[[0.0044714403, 0.025281252, 0.047462158, -0.1...</td>\n",
       "      <td>952</td>\n",
       "    </tr>\n",
       "    <tr>\n",
       "      <th>3</th>\n",
       "      <td>https://lenta.ru/news/2020/04/01/trump/</td>\n",
       "      <td>Трамп приготовился решать проблемы на рынке не...</td>\n",
       "      <td>США, Россия и Саудовская Аравия будут вместе и...</td>\n",
       "      <td>NaN</td>\n",
       "      <td>Рынки</td>\n",
       "      <td>2020-04-01</td>\n",
       "      <td>[-0.102248736, 0.01986953, -0.082584165, -0.18...</td>\n",
       "      <td>[[-0.08261695, -0.017666915, 0.023190813, -0.1...</td>\n",
       "      <td>8832</td>\n",
       "    </tr>\n",
       "    <tr>\n",
       "      <th>4</th>\n",
       "      <td>https://lenta.ru/news/2020/04/01/twoweeks/</td>\n",
       "      <td>Трамп предупредил о двух тяжелых неделях</td>\n",
       "      <td>Президент США Дональд Трамп предупредил, что с...</td>\n",
       "      <td>NaN</td>\n",
       "      <td>Политика</td>\n",
       "      <td>2020-04-01</td>\n",
       "      <td>[0.14668396, -0.050554648, 0.082273155, -0.117...</td>\n",
       "      <td>[[0.009228528, 0.06707849, 0.029608294, -0.179...</td>\n",
       "      <td>5415</td>\n",
       "    </tr>\n",
       "  </tbody>\n",
       "</table>\n",
       "</div>"
      ],
      "text/plain": [
       "                                          url  \\\n",
       "0   https://lenta.ru/news/2020/04/01/pension/   \n",
       "1    https://lenta.ru/news/2020/04/01/gosdep/   \n",
       "2   https://lenta.ru/news/2020/04/01/student/   \n",
       "3     https://lenta.ru/news/2020/04/01/trump/   \n",
       "4  https://lenta.ru/news/2020/04/01/twoweeks/   \n",
       "\n",
       "                                               title  \\\n",
       "0                В России выросли минимальные пенсии   \n",
       "1  В США от коронавируса впервые умер чиновник Го...   \n",
       "2  Врачи несколько раз отказали студенту в тесте ...   \n",
       "3  Трамп приготовился решать проблемы на рынке не...   \n",
       "4           Трамп предупредил о двух тяжелых неделях   \n",
       "\n",
       "                                                text  topic          tags  \\\n",
       "0  В России с 1 апреля 2020 года социальные пенси...    NaN  Госэкономика   \n",
       "1  В США впервые умер чиновник Госдепартамента от...    NaN      Политика   \n",
       "2  Врачи отказались проверять студента американск...    NaN          Люди   \n",
       "3  США, Россия и Саудовская Аравия будут вместе и...    NaN         Рынки   \n",
       "4  Президент США Дональд Трамп предупредил, что с...    NaN      Политика   \n",
       "\n",
       "        date                                   title_embeddings  \\\n",
       "0 2020-04-01  [-0.052612055, 0.2722607, -0.14449318, 0.04195...   \n",
       "1 2020-04-01  [0.090374745, 0.092075, 0.01641604, -0.0920282...   \n",
       "2 2020-04-01  [-0.09805635, 0.08675916, 0.052997965, -0.1261...   \n",
       "3 2020-04-01  [-0.102248736, 0.01986953, -0.082584165, -0.18...   \n",
       "4 2020-04-01  [0.14668396, -0.050554648, 0.082273155, -0.117...   \n",
       "\n",
       "                                     text_embeddings  cluster_id  \n",
       "0  [[0.009775764, 0.07573057, -0.039965995, -0.06...        6135  \n",
       "1  [[0.06525214, -0.026824981, 0.03698051, -0.125...        5767  \n",
       "2  [[0.0044714403, 0.025281252, 0.047462158, -0.1...         952  \n",
       "3  [[-0.08261695, -0.017666915, 0.023190813, -0.1...        8832  \n",
       "4  [[0.009228528, 0.06707849, 0.029608294, -0.179...        5415  "
      ]
     },
     "execution_count": 17,
     "metadata": {},
     "output_type": "execute_result"
    }
   ],
   "source": [
    "df.head()"
   ]
  },
  {
   "cell_type": "code",
   "execution_count": 3,
   "metadata": {},
   "outputs": [
    {
     "data": {
      "text/plain": [
       "1.8720111"
      ]
     },
     "execution_count": 3,
     "metadata": {},
     "output_type": "execute_result"
    }
   ],
   "source": [
    "np.linalg.norm(df[\"title_embeddings\"][7] - df[\"title_embeddings\"][1])"
   ]
  },
  {
   "cell_type": "code",
   "execution_count": 4,
   "metadata": {},
   "outputs": [
    {
     "data": {
      "text/plain": [
       "AgglomerativeClustering(affinity='euclidean', compute_full_tree='auto',\n",
       "                        connectivity=None, distance_threshold=1,\n",
       "                        linkage='single', memory=None, n_clusters=None,\n",
       "                        pooling_func='deprecated')"
      ]
     },
     "execution_count": 4,
     "metadata": {},
     "output_type": "execute_result"
    }
   ],
   "source": [
    "clustering_model = AgglomerativeClustering(linkage=\"single\", distance_threshold=1, n_clusters=None)\n",
    "clustering_model.fit(df[\"title_embeddings\"].to_list())"
   ]
  },
  {
   "cell_type": "code",
   "execution_count": 5,
   "metadata": {},
   "outputs": [],
   "source": [
    "unique_items, counts = np.unique(clustering_model.labels_, return_counts=True)"
   ]
  },
  {
   "cell_type": "code",
   "execution_count": 16,
   "metadata": {},
   "outputs": [
    {
     "data": {
      "text/plain": [
       "4"
      ]
     },
     "execution_count": 16,
     "metadata": {},
     "output_type": "execute_result"
    }
   ],
   "source": [
    "sum(clustering_model.labels_ == 5)"
   ]
  },
  {
   "cell_type": "code",
   "execution_count": 72,
   "metadata": {},
   "outputs": [],
   "source": [
    "df[\"cluster_id\"] = clustering_model.labels_"
   ]
  },
  {
   "cell_type": "code",
   "execution_count": 80,
   "metadata": {},
   "outputs": [],
   "source": [
    "df.to_pickle(\"../datasets/lenta-ru-news-embedded.pkl\")"
   ]
  },
  {
   "cell_type": "code",
   "execution_count": null,
   "metadata": {},
   "outputs": [],
   "source": []
  }
 ],
 "metadata": {
  "kernelspec": {
   "display_name": "Python 3",
   "language": "python",
   "name": "python3"
  },
  "language_info": {
   "codemirror_mode": {
    "name": "ipython",
    "version": 3
   },
   "file_extension": ".py",
   "mimetype": "text/x-python",
   "name": "python",
   "nbconvert_exporter": "python",
   "pygments_lexer": "ipython3",
   "version": "3.7.6"
  }
 },
 "nbformat": 4,
 "nbformat_minor": 4
}
