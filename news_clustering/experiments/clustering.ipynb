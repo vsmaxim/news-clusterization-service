{
 "cells": [
  {
   "cell_type": "code",
   "execution_count": 1,
   "metadata": {},
   "outputs": [],
   "source": [
    "import pandas as pd\n",
    "from pathlib import Path\n",
    "import en_core_web_lg\n",
    "import nltk\n",
    "import torch\n",
    "from transformers import BertTokenizer, BertModel\n",
    "from sklearn.cluster import DBSCAN"
   ]
  },
  {
   "cell_type": "code",
   "execution_count": 2,
   "metadata": {},
   "outputs": [],
   "source": [
    "df = pd.read_csv('./datasets/lenta-ru-news.csv', nrows=600)\n",
    "df[['title', 'text']] = df[['title', 'text']].apply(lambda i: i.replace('\\xa0', ' '))\n",
    "df['date'] = pd.to_datetime(df['date'], infer_datetime_format=True)"
   ]
  },
  {
   "cell_type": "code",
   "execution_count": 3,
   "metadata": {},
   "outputs": [
    {
     "data": {
      "text/plain": [
       "BertModel(\n",
       "  (embeddings): BertEmbeddings(\n",
       "    (word_embeddings): Embedding(119547, 768, padding_idx=0)\n",
       "    (position_embeddings): Embedding(512, 768)\n",
       "    (token_type_embeddings): Embedding(2, 768)\n",
       "    (LayerNorm): LayerNorm((768,), eps=1e-12, elementwise_affine=True)\n",
       "    (dropout): Dropout(p=0.1, inplace=False)\n",
       "  )\n",
       "  (encoder): BertEncoder(\n",
       "    (layer): ModuleList(\n",
       "      (0): BertLayer(\n",
       "        (attention): BertAttention(\n",
       "          (self): BertSelfAttention(\n",
       "            (query): Linear(in_features=768, out_features=768, bias=True)\n",
       "            (key): Linear(in_features=768, out_features=768, bias=True)\n",
       "            (value): Linear(in_features=768, out_features=768, bias=True)\n",
       "            (dropout): Dropout(p=0.1, inplace=False)\n",
       "          )\n",
       "          (output): BertSelfOutput(\n",
       "            (dense): Linear(in_features=768, out_features=768, bias=True)\n",
       "            (LayerNorm): LayerNorm((768,), eps=1e-12, elementwise_affine=True)\n",
       "            (dropout): Dropout(p=0.1, inplace=False)\n",
       "          )\n",
       "        )\n",
       "        (intermediate): BertIntermediate(\n",
       "          (dense): Linear(in_features=768, out_features=3072, bias=True)\n",
       "        )\n",
       "        (output): BertOutput(\n",
       "          (dense): Linear(in_features=3072, out_features=768, bias=True)\n",
       "          (LayerNorm): LayerNorm((768,), eps=1e-12, elementwise_affine=True)\n",
       "          (dropout): Dropout(p=0.1, inplace=False)\n",
       "        )\n",
       "      )\n",
       "      (1): BertLayer(\n",
       "        (attention): BertAttention(\n",
       "          (self): BertSelfAttention(\n",
       "            (query): Linear(in_features=768, out_features=768, bias=True)\n",
       "            (key): Linear(in_features=768, out_features=768, bias=True)\n",
       "            (value): Linear(in_features=768, out_features=768, bias=True)\n",
       "            (dropout): Dropout(p=0.1, inplace=False)\n",
       "          )\n",
       "          (output): BertSelfOutput(\n",
       "            (dense): Linear(in_features=768, out_features=768, bias=True)\n",
       "            (LayerNorm): LayerNorm((768,), eps=1e-12, elementwise_affine=True)\n",
       "            (dropout): Dropout(p=0.1, inplace=False)\n",
       "          )\n",
       "        )\n",
       "        (intermediate): BertIntermediate(\n",
       "          (dense): Linear(in_features=768, out_features=3072, bias=True)\n",
       "        )\n",
       "        (output): BertOutput(\n",
       "          (dense): Linear(in_features=3072, out_features=768, bias=True)\n",
       "          (LayerNorm): LayerNorm((768,), eps=1e-12, elementwise_affine=True)\n",
       "          (dropout): Dropout(p=0.1, inplace=False)\n",
       "        )\n",
       "      )\n",
       "      (2): BertLayer(\n",
       "        (attention): BertAttention(\n",
       "          (self): BertSelfAttention(\n",
       "            (query): Linear(in_features=768, out_features=768, bias=True)\n",
       "            (key): Linear(in_features=768, out_features=768, bias=True)\n",
       "            (value): Linear(in_features=768, out_features=768, bias=True)\n",
       "            (dropout): Dropout(p=0.1, inplace=False)\n",
       "          )\n",
       "          (output): BertSelfOutput(\n",
       "            (dense): Linear(in_features=768, out_features=768, bias=True)\n",
       "            (LayerNorm): LayerNorm((768,), eps=1e-12, elementwise_affine=True)\n",
       "            (dropout): Dropout(p=0.1, inplace=False)\n",
       "          )\n",
       "        )\n",
       "        (intermediate): BertIntermediate(\n",
       "          (dense): Linear(in_features=768, out_features=3072, bias=True)\n",
       "        )\n",
       "        (output): BertOutput(\n",
       "          (dense): Linear(in_features=3072, out_features=768, bias=True)\n",
       "          (LayerNorm): LayerNorm((768,), eps=1e-12, elementwise_affine=True)\n",
       "          (dropout): Dropout(p=0.1, inplace=False)\n",
       "        )\n",
       "      )\n",
       "      (3): BertLayer(\n",
       "        (attention): BertAttention(\n",
       "          (self): BertSelfAttention(\n",
       "            (query): Linear(in_features=768, out_features=768, bias=True)\n",
       "            (key): Linear(in_features=768, out_features=768, bias=True)\n",
       "            (value): Linear(in_features=768, out_features=768, bias=True)\n",
       "            (dropout): Dropout(p=0.1, inplace=False)\n",
       "          )\n",
       "          (output): BertSelfOutput(\n",
       "            (dense): Linear(in_features=768, out_features=768, bias=True)\n",
       "            (LayerNorm): LayerNorm((768,), eps=1e-12, elementwise_affine=True)\n",
       "            (dropout): Dropout(p=0.1, inplace=False)\n",
       "          )\n",
       "        )\n",
       "        (intermediate): BertIntermediate(\n",
       "          (dense): Linear(in_features=768, out_features=3072, bias=True)\n",
       "        )\n",
       "        (output): BertOutput(\n",
       "          (dense): Linear(in_features=3072, out_features=768, bias=True)\n",
       "          (LayerNorm): LayerNorm((768,), eps=1e-12, elementwise_affine=True)\n",
       "          (dropout): Dropout(p=0.1, inplace=False)\n",
       "        )\n",
       "      )\n",
       "      (4): BertLayer(\n",
       "        (attention): BertAttention(\n",
       "          (self): BertSelfAttention(\n",
       "            (query): Linear(in_features=768, out_features=768, bias=True)\n",
       "            (key): Linear(in_features=768, out_features=768, bias=True)\n",
       "            (value): Linear(in_features=768, out_features=768, bias=True)\n",
       "            (dropout): Dropout(p=0.1, inplace=False)\n",
       "          )\n",
       "          (output): BertSelfOutput(\n",
       "            (dense): Linear(in_features=768, out_features=768, bias=True)\n",
       "            (LayerNorm): LayerNorm((768,), eps=1e-12, elementwise_affine=True)\n",
       "            (dropout): Dropout(p=0.1, inplace=False)\n",
       "          )\n",
       "        )\n",
       "        (intermediate): BertIntermediate(\n",
       "          (dense): Linear(in_features=768, out_features=3072, bias=True)\n",
       "        )\n",
       "        (output): BertOutput(\n",
       "          (dense): Linear(in_features=3072, out_features=768, bias=True)\n",
       "          (LayerNorm): LayerNorm((768,), eps=1e-12, elementwise_affine=True)\n",
       "          (dropout): Dropout(p=0.1, inplace=False)\n",
       "        )\n",
       "      )\n",
       "      (5): BertLayer(\n",
       "        (attention): BertAttention(\n",
       "          (self): BertSelfAttention(\n",
       "            (query): Linear(in_features=768, out_features=768, bias=True)\n",
       "            (key): Linear(in_features=768, out_features=768, bias=True)\n",
       "            (value): Linear(in_features=768, out_features=768, bias=True)\n",
       "            (dropout): Dropout(p=0.1, inplace=False)\n",
       "          )\n",
       "          (output): BertSelfOutput(\n",
       "            (dense): Linear(in_features=768, out_features=768, bias=True)\n",
       "            (LayerNorm): LayerNorm((768,), eps=1e-12, elementwise_affine=True)\n",
       "            (dropout): Dropout(p=0.1, inplace=False)\n",
       "          )\n",
       "        )\n",
       "        (intermediate): BertIntermediate(\n",
       "          (dense): Linear(in_features=768, out_features=3072, bias=True)\n",
       "        )\n",
       "        (output): BertOutput(\n",
       "          (dense): Linear(in_features=3072, out_features=768, bias=True)\n",
       "          (LayerNorm): LayerNorm((768,), eps=1e-12, elementwise_affine=True)\n",
       "          (dropout): Dropout(p=0.1, inplace=False)\n",
       "        )\n",
       "      )\n",
       "      (6): BertLayer(\n",
       "        (attention): BertAttention(\n",
       "          (self): BertSelfAttention(\n",
       "            (query): Linear(in_features=768, out_features=768, bias=True)\n",
       "            (key): Linear(in_features=768, out_features=768, bias=True)\n",
       "            (value): Linear(in_features=768, out_features=768, bias=True)\n",
       "            (dropout): Dropout(p=0.1, inplace=False)\n",
       "          )\n",
       "          (output): BertSelfOutput(\n",
       "            (dense): Linear(in_features=768, out_features=768, bias=True)\n",
       "            (LayerNorm): LayerNorm((768,), eps=1e-12, elementwise_affine=True)\n",
       "            (dropout): Dropout(p=0.1, inplace=False)\n",
       "          )\n",
       "        )\n",
       "        (intermediate): BertIntermediate(\n",
       "          (dense): Linear(in_features=768, out_features=3072, bias=True)\n",
       "        )\n",
       "        (output): BertOutput(\n",
       "          (dense): Linear(in_features=3072, out_features=768, bias=True)\n",
       "          (LayerNorm): LayerNorm((768,), eps=1e-12, elementwise_affine=True)\n",
       "          (dropout): Dropout(p=0.1, inplace=False)\n",
       "        )\n",
       "      )\n",
       "      (7): BertLayer(\n",
       "        (attention): BertAttention(\n",
       "          (self): BertSelfAttention(\n",
       "            (query): Linear(in_features=768, out_features=768, bias=True)\n",
       "            (key): Linear(in_features=768, out_features=768, bias=True)\n",
       "            (value): Linear(in_features=768, out_features=768, bias=True)\n",
       "            (dropout): Dropout(p=0.1, inplace=False)\n",
       "          )\n",
       "          (output): BertSelfOutput(\n",
       "            (dense): Linear(in_features=768, out_features=768, bias=True)\n",
       "            (LayerNorm): LayerNorm((768,), eps=1e-12, elementwise_affine=True)\n",
       "            (dropout): Dropout(p=0.1, inplace=False)\n",
       "          )\n",
       "        )\n",
       "        (intermediate): BertIntermediate(\n",
       "          (dense): Linear(in_features=768, out_features=3072, bias=True)\n",
       "        )\n",
       "        (output): BertOutput(\n",
       "          (dense): Linear(in_features=3072, out_features=768, bias=True)\n",
       "          (LayerNorm): LayerNorm((768,), eps=1e-12, elementwise_affine=True)\n",
       "          (dropout): Dropout(p=0.1, inplace=False)\n",
       "        )\n",
       "      )\n",
       "      (8): BertLayer(\n",
       "        (attention): BertAttention(\n",
       "          (self): BertSelfAttention(\n",
       "            (query): Linear(in_features=768, out_features=768, bias=True)\n",
       "            (key): Linear(in_features=768, out_features=768, bias=True)\n",
       "            (value): Linear(in_features=768, out_features=768, bias=True)\n",
       "            (dropout): Dropout(p=0.1, inplace=False)\n",
       "          )\n",
       "          (output): BertSelfOutput(\n",
       "            (dense): Linear(in_features=768, out_features=768, bias=True)\n",
       "            (LayerNorm): LayerNorm((768,), eps=1e-12, elementwise_affine=True)\n",
       "            (dropout): Dropout(p=0.1, inplace=False)\n",
       "          )\n",
       "        )\n",
       "        (intermediate): BertIntermediate(\n",
       "          (dense): Linear(in_features=768, out_features=3072, bias=True)\n",
       "        )\n",
       "        (output): BertOutput(\n",
       "          (dense): Linear(in_features=3072, out_features=768, bias=True)\n",
       "          (LayerNorm): LayerNorm((768,), eps=1e-12, elementwise_affine=True)\n",
       "          (dropout): Dropout(p=0.1, inplace=False)\n",
       "        )\n",
       "      )\n",
       "      (9): BertLayer(\n",
       "        (attention): BertAttention(\n",
       "          (self): BertSelfAttention(\n",
       "            (query): Linear(in_features=768, out_features=768, bias=True)\n",
       "            (key): Linear(in_features=768, out_features=768, bias=True)\n",
       "            (value): Linear(in_features=768, out_features=768, bias=True)\n",
       "            (dropout): Dropout(p=0.1, inplace=False)\n",
       "          )\n",
       "          (output): BertSelfOutput(\n",
       "            (dense): Linear(in_features=768, out_features=768, bias=True)\n",
       "            (LayerNorm): LayerNorm((768,), eps=1e-12, elementwise_affine=True)\n",
       "            (dropout): Dropout(p=0.1, inplace=False)\n",
       "          )\n",
       "        )\n",
       "        (intermediate): BertIntermediate(\n",
       "          (dense): Linear(in_features=768, out_features=3072, bias=True)\n",
       "        )\n",
       "        (output): BertOutput(\n",
       "          (dense): Linear(in_features=3072, out_features=768, bias=True)\n",
       "          (LayerNorm): LayerNorm((768,), eps=1e-12, elementwise_affine=True)\n",
       "          (dropout): Dropout(p=0.1, inplace=False)\n",
       "        )\n",
       "      )\n",
       "      (10): BertLayer(\n",
       "        (attention): BertAttention(\n",
       "          (self): BertSelfAttention(\n",
       "            (query): Linear(in_features=768, out_features=768, bias=True)\n",
       "            (key): Linear(in_features=768, out_features=768, bias=True)\n",
       "            (value): Linear(in_features=768, out_features=768, bias=True)\n",
       "            (dropout): Dropout(p=0.1, inplace=False)\n",
       "          )\n",
       "          (output): BertSelfOutput(\n",
       "            (dense): Linear(in_features=768, out_features=768, bias=True)\n",
       "            (LayerNorm): LayerNorm((768,), eps=1e-12, elementwise_affine=True)\n",
       "            (dropout): Dropout(p=0.1, inplace=False)\n",
       "          )\n",
       "        )\n",
       "        (intermediate): BertIntermediate(\n",
       "          (dense): Linear(in_features=768, out_features=3072, bias=True)\n",
       "        )\n",
       "        (output): BertOutput(\n",
       "          (dense): Linear(in_features=3072, out_features=768, bias=True)\n",
       "          (LayerNorm): LayerNorm((768,), eps=1e-12, elementwise_affine=True)\n",
       "          (dropout): Dropout(p=0.1, inplace=False)\n",
       "        )\n",
       "      )\n",
       "      (11): BertLayer(\n",
       "        (attention): BertAttention(\n",
       "          (self): BertSelfAttention(\n",
       "            (query): Linear(in_features=768, out_features=768, bias=True)\n",
       "            (key): Linear(in_features=768, out_features=768, bias=True)\n",
       "            (value): Linear(in_features=768, out_features=768, bias=True)\n",
       "            (dropout): Dropout(p=0.1, inplace=False)\n",
       "          )\n",
       "          (output): BertSelfOutput(\n",
       "            (dense): Linear(in_features=768, out_features=768, bias=True)\n",
       "            (LayerNorm): LayerNorm((768,), eps=1e-12, elementwise_affine=True)\n",
       "            (dropout): Dropout(p=0.1, inplace=False)\n",
       "          )\n",
       "        )\n",
       "        (intermediate): BertIntermediate(\n",
       "          (dense): Linear(in_features=768, out_features=3072, bias=True)\n",
       "        )\n",
       "        (output): BertOutput(\n",
       "          (dense): Linear(in_features=3072, out_features=768, bias=True)\n",
       "          (LayerNorm): LayerNorm((768,), eps=1e-12, elementwise_affine=True)\n",
       "          (dropout): Dropout(p=0.1, inplace=False)\n",
       "        )\n",
       "      )\n",
       "    )\n",
       "  )\n",
       "  (pooler): BertPooler(\n",
       "    (dense): Linear(in_features=768, out_features=768, bias=True)\n",
       "    (activation): Tanh()\n",
       "  )\n",
       ")"
      ]
     },
     "execution_count": 3,
     "metadata": {},
     "output_type": "execute_result"
    }
   ],
   "source": [
    "word_tokenizer = BertTokenizer.from_pretrained('./rubert_cased_L-12_H-768_A-12_pt')\n",
    "word_embedder = BertModel.from_pretrained('./rubert_cased_L-12_H-768_A-12_pt')\n",
    "\n",
    "word_embedder.eval()"
   ]
  },
  {
   "cell_type": "code",
   "execution_count": 4,
   "metadata": {},
   "outputs": [],
   "source": [
    "def tokenize(s):\n",
    "    return word_tokenizer.tokenize(s)\n",
    "\n",
    "def tokens_to_ids(tokens):\n",
    "    return word_tokenizer.convert_tokens_to_ids(tokens)\n",
    "\n",
    "def vectorize(tokens):\n",
    "    tokens = torch.tensor(tokens).view(1, -1)\n",
    "    \n",
    "    with torch.no_grad():\n",
    "        embeddings = word_embedder(tokens)\n",
    "    \n",
    "    return embeddings[0].mean(1).view(-1).numpy()\n",
    "\n",
    "def nlp(s):\n",
    "    tokens = tokenize(s)\n",
    "    ids = tokens_to_ids(tokens)\n",
    "    vector = vectorize(ids)\n",
    "    return vector"
   ]
  },
  {
   "cell_type": "code",
   "execution_count": 5,
   "metadata": {
    "scrolled": true
   },
   "outputs": [
    {
     "data": {
      "text/html": [
       "<div>\n",
       "<style scoped>\n",
       "    .dataframe tbody tr th:only-of-type {\n",
       "        vertical-align: middle;\n",
       "    }\n",
       "\n",
       "    .dataframe tbody tr th {\n",
       "        vertical-align: top;\n",
       "    }\n",
       "\n",
       "    .dataframe thead th {\n",
       "        text-align: right;\n",
       "    }\n",
       "</style>\n",
       "<table border=\"1\" class=\"dataframe\">\n",
       "  <thead>\n",
       "    <tr style=\"text-align: right;\">\n",
       "      <th></th>\n",
       "      <th>url</th>\n",
       "      <th>title</th>\n",
       "      <th>text</th>\n",
       "      <th>topic</th>\n",
       "      <th>tags</th>\n",
       "      <th>date</th>\n",
       "      <th>title_vec</th>\n",
       "    </tr>\n",
       "  </thead>\n",
       "  <tbody>\n",
       "    <tr>\n",
       "      <th>0</th>\n",
       "      <td>https://lenta.ru/news/1914/09/16/hungarnn/</td>\n",
       "      <td>1914. Русские войска вступили в пределы Венгрии</td>\n",
       "      <td>Бои у Сопоцкина и Друскеник закончились отступ...</td>\n",
       "      <td>Библиотека</td>\n",
       "      <td>Первая мировая</td>\n",
       "      <td>1914-09-16</td>\n",
       "      <td>[-0.23075509, -0.69800407, 0.40452203, -0.2693...</td>\n",
       "    </tr>\n",
       "    <tr>\n",
       "      <th>1</th>\n",
       "      <td>https://lenta.ru/news/1914/09/16/lermontov/</td>\n",
       "      <td>1914. Празднование столетия М.Ю. Лермонтова от...</td>\n",
       "      <td>Министерство народного просвещения, в виду про...</td>\n",
       "      <td>Библиотека</td>\n",
       "      <td>Первая мировая</td>\n",
       "      <td>1914-09-16</td>\n",
       "      <td>[0.24042425, -0.48690903, 0.5398153, -0.580387...</td>\n",
       "    </tr>\n",
       "    <tr>\n",
       "      <th>2</th>\n",
       "      <td>https://lenta.ru/news/1914/09/17/nesteroff/</td>\n",
       "      <td>1914. Das ist Nesteroff!</td>\n",
       "      <td>Штабс-капитан П. Н. Нестеров на днях, увидев в...</td>\n",
       "      <td>Библиотека</td>\n",
       "      <td>Первая мировая</td>\n",
       "      <td>1914-09-17</td>\n",
       "      <td>[-1.0306623, -0.35064948, 0.7855428, -0.001067...</td>\n",
       "    </tr>\n",
       "    <tr>\n",
       "      <th>3</th>\n",
       "      <td>https://lenta.ru/news/1914/09/17/bulldogn/</td>\n",
       "      <td>1914. Бульдог-гонец под Льежем</td>\n",
       "      <td>Фотограф-корреспондент Daily Mirror рассказыва...</td>\n",
       "      <td>Библиотека</td>\n",
       "      <td>Первая мировая</td>\n",
       "      <td>1914-09-17</td>\n",
       "      <td>[0.12944643, -0.14760603, 1.0951107, -0.026048...</td>\n",
       "    </tr>\n",
       "    <tr>\n",
       "      <th>4</th>\n",
       "      <td>https://lenta.ru/news/1914/09/18/zver/</td>\n",
       "      <td>1914. Под Люблином пойман швабский зверь</td>\n",
       "      <td>Лица, приехавшие в Варшаву из Люблина, передаю...</td>\n",
       "      <td>Библиотека</td>\n",
       "      <td>Первая мировая</td>\n",
       "      <td>1914-09-18</td>\n",
       "      <td>[-0.14154285, -0.3706729, 0.69633096, 0.084119...</td>\n",
       "    </tr>\n",
       "    <tr>\n",
       "      <th>...</th>\n",
       "      <td>...</td>\n",
       "      <td>...</td>\n",
       "      <td>...</td>\n",
       "      <td>...</td>\n",
       "      <td>...</td>\n",
       "      <td>...</td>\n",
       "      <td>...</td>\n",
       "    </tr>\n",
       "    <tr>\n",
       "      <th>595</th>\n",
       "      <td>https://lenta.ru/news/1999/09/30/us_salary/</td>\n",
       "      <td>Клинтон удвоил зарплату своему преемнику</td>\n",
       "      <td>В среду президент США Билл Клинтон подписал за...</td>\n",
       "      <td>Мир</td>\n",
       "      <td>Все</td>\n",
       "      <td>1999-09-30</td>\n",
       "      <td>[-0.16718023, -0.14916594, 1.1390594, -0.24624...</td>\n",
       "    </tr>\n",
       "    <tr>\n",
       "      <th>596</th>\n",
       "      <td>https://lenta.ru/news/1999/09/30/aum/</td>\n",
       "      <td>Один из лидеров \"АУМ Синрике\" будет повешен</td>\n",
       "      <td>К смертной казни через повешение приговорен в ...</td>\n",
       "      <td>Мир</td>\n",
       "      <td>Все</td>\n",
       "      <td>1999-09-30</td>\n",
       "      <td>[-0.92916965, 0.08166847, 0.3386756, -0.202182...</td>\n",
       "    </tr>\n",
       "    <tr>\n",
       "      <th>597</th>\n",
       "      <td>https://lenta.ru/news/1999/09/30/stalin/</td>\n",
       "      <td>Василий Сталин частично реабилитирован</td>\n",
       "      <td>Военная коллегия Верховного суда России на сво...</td>\n",
       "      <td>Россия</td>\n",
       "      <td>Все</td>\n",
       "      <td>1999-09-30</td>\n",
       "      <td>[-0.011934906, -0.13803084, 0.3040678, -0.6547...</td>\n",
       "    </tr>\n",
       "    <tr>\n",
       "      <th>598</th>\n",
       "      <td>https://lenta.ru/news/1999/09/30/bank_skandal/</td>\n",
       "      <td>Дело банка \"Фламинго\": отмывание денег или отм...</td>\n",
       "      <td>Во вторник российская генпрокуратура возбудила...</td>\n",
       "      <td>Россия</td>\n",
       "      <td>Все</td>\n",
       "      <td>1999-09-30</td>\n",
       "      <td>[0.2019369, -0.5808046, 0.18618253, -0.3031105...</td>\n",
       "    </tr>\n",
       "    <tr>\n",
       "      <th>599</th>\n",
       "      <td>https://lenta.ru/news/1999/09/30/chechnya/</td>\n",
       "      <td>Чечня грозит войной на территории России</td>\n",
       "      <td>В случае начала сухопутной операции федеральны...</td>\n",
       "      <td>Россия</td>\n",
       "      <td>Все</td>\n",
       "      <td>1999-09-30</td>\n",
       "      <td>[-0.11856976, -0.77354723, 0.52787095, 0.01741...</td>\n",
       "    </tr>\n",
       "  </tbody>\n",
       "</table>\n",
       "<p>600 rows × 7 columns</p>\n",
       "</div>"
      ],
      "text/plain": [
       "                                                url  \\\n",
       "0        https://lenta.ru/news/1914/09/16/hungarnn/   \n",
       "1       https://lenta.ru/news/1914/09/16/lermontov/   \n",
       "2       https://lenta.ru/news/1914/09/17/nesteroff/   \n",
       "3        https://lenta.ru/news/1914/09/17/bulldogn/   \n",
       "4            https://lenta.ru/news/1914/09/18/zver/   \n",
       "..                                              ...   \n",
       "595     https://lenta.ru/news/1999/09/30/us_salary/   \n",
       "596           https://lenta.ru/news/1999/09/30/aum/   \n",
       "597        https://lenta.ru/news/1999/09/30/stalin/   \n",
       "598  https://lenta.ru/news/1999/09/30/bank_skandal/   \n",
       "599      https://lenta.ru/news/1999/09/30/chechnya/   \n",
       "\n",
       "                                                 title  \\\n",
       "0    1914. Русские войска вступили в пределы Венгрии     \n",
       "1    1914. Празднование столетия М.Ю. Лермонтова от...   \n",
       "2                             1914. Das ist Nesteroff!   \n",
       "3                      1914. Бульдог-гонец под Льежем    \n",
       "4             1914. Под Люблином пойман швабский зверь   \n",
       "..                                                 ...   \n",
       "595           Клинтон удвоил зарплату своему преемнику   \n",
       "596        Один из лидеров \"АУМ Синрике\" будет повешен   \n",
       "597             Василий Сталин частично реабилитирован   \n",
       "598  Дело банка \"Фламинго\": отмывание денег или отм...   \n",
       "599           Чечня грозит войной на территории России   \n",
       "\n",
       "                                                  text       topic  \\\n",
       "0    Бои у Сопоцкина и Друскеник закончились отступ...  Библиотека   \n",
       "1    Министерство народного просвещения, в виду про...  Библиотека   \n",
       "2    Штабс-капитан П. Н. Нестеров на днях, увидев в...  Библиотека   \n",
       "3    Фотограф-корреспондент Daily Mirror рассказыва...  Библиотека   \n",
       "4    Лица, приехавшие в Варшаву из Люблина, передаю...  Библиотека   \n",
       "..                                                 ...         ...   \n",
       "595  В среду президент США Билл Клинтон подписал за...         Мир   \n",
       "596  К смертной казни через повешение приговорен в ...         Мир   \n",
       "597  Военная коллегия Верховного суда России на сво...      Россия   \n",
       "598  Во вторник российская генпрокуратура возбудила...      Россия   \n",
       "599  В случае начала сухопутной операции федеральны...      Россия   \n",
       "\n",
       "               tags       date  \\\n",
       "0    Первая мировая 1914-09-16   \n",
       "1    Первая мировая 1914-09-16   \n",
       "2    Первая мировая 1914-09-17   \n",
       "3    Первая мировая 1914-09-17   \n",
       "4    Первая мировая 1914-09-18   \n",
       "..              ...        ...   \n",
       "595             Все 1999-09-30   \n",
       "596             Все 1999-09-30   \n",
       "597             Все 1999-09-30   \n",
       "598             Все 1999-09-30   \n",
       "599             Все 1999-09-30   \n",
       "\n",
       "                                             title_vec  \n",
       "0    [-0.23075509, -0.69800407, 0.40452203, -0.2693...  \n",
       "1    [0.24042425, -0.48690903, 0.5398153, -0.580387...  \n",
       "2    [-1.0306623, -0.35064948, 0.7855428, -0.001067...  \n",
       "3    [0.12944643, -0.14760603, 1.0951107, -0.026048...  \n",
       "4    [-0.14154285, -0.3706729, 0.69633096, 0.084119...  \n",
       "..                                                 ...  \n",
       "595  [-0.16718023, -0.14916594, 1.1390594, -0.24624...  \n",
       "596  [-0.92916965, 0.08166847, 0.3386756, -0.202182...  \n",
       "597  [-0.011934906, -0.13803084, 0.3040678, -0.6547...  \n",
       "598  [0.2019369, -0.5808046, 0.18618253, -0.3031105...  \n",
       "599  [-0.11856976, -0.77354723, 0.52787095, 0.01741...  \n",
       "\n",
       "[600 rows x 7 columns]"
      ]
     },
     "execution_count": 5,
     "metadata": {},
     "output_type": "execute_result"
    }
   ],
   "source": [
    "df['title_vec'] = df['title'].apply(nlp)\n",
    "df"
   ]
  },
  {
   "cell_type": "code",
   "execution_count": 6,
   "metadata": {},
   "outputs": [],
   "source": [
    "import numpy as np\n",
    "\n",
    "# Значение 9 тут просто зафайнтюнено чуть меньше чем среднее расстояние между двумя векторами в датасете\n",
    "clustering_model = DBSCAN(eps=9, min_samples=2)\n",
    "clustering = clustering_model.fit(list(df['title_vec']))\n",
    "df['cluster_labels'] = clustering.labels_"
   ]
  },
  {
   "cell_type": "code",
   "execution_count": 7,
   "metadata": {},
   "outputs": [
    {
     "data": {
      "text/plain": [
       "-1     577\n",
       " 1       3\n",
       " 10      2\n",
       " 9       2\n",
       " 8       2\n",
       " 7       2\n",
       " 6       2\n",
       " 5       2\n",
       " 4       2\n",
       " 3       2\n",
       " 2       2\n",
       " 0       2\n",
       "Name: cluster_labels, dtype: int64"
      ]
     },
     "execution_count": 7,
     "metadata": {},
     "output_type": "execute_result"
    }
   ],
   "source": [
    "df['cluster_labels'].value_counts()"
   ]
  },
  {
   "cell_type": "code",
   "execution_count": 10,
   "metadata": {},
   "outputs": [
    {
     "data": {
      "text/plain": [
       "array([[ 0.        ,  8.36877918,  7.64410305],\n",
       "       [ 8.36877918,  0.        , 10.01322746],\n",
       "       [ 7.64410305, 10.01322746,  0.        ]])"
      ]
     },
     "execution_count": 10,
     "metadata": {},
     "output_type": "execute_result"
    }
   ],
   "source": [
    "distance_matrix = np.zeros((3, 3))\n",
    "cluster_vectors = df[df['cluster_labels'] == 1]['title_vec']\n",
    "\n",
    "for i, vec_1 in enumerate(cluster_vectors):\n",
    "    for j, vec_2 in enumerate(cluster_vectors):\n",
    "        vec_1 = np.array(vec_1)\n",
    "        vec_2 = np.array(vec_2)\n",
    "        \n",
    "        distance_matrix[i][j] = np.linalg.norm(vec_1 - vec_2)\n",
    "distance_matrix"
   ]
  },
  {
   "cell_type": "code",
   "execution_count": 12,
   "metadata": {},
   "outputs": [
    {
     "data": {
      "text/plain": [
       "65          В Южно-Сахалинске выявлено 8 больных холерой\n",
       "99         В Южно-Сахалинске заболели холерой 14 человек\n",
       "275    В Сахалинской области выявлено 11 больных холерой\n",
       "Name: title, dtype: object"
      ]
     },
     "execution_count": 12,
     "metadata": {},
     "output_type": "execute_result"
    }
   ],
   "source": [
    "df[df['cluster_labels'] == 1]['title']"
   ]
  },
  {
   "cell_type": "code",
   "execution_count": 13,
   "metadata": {},
   "outputs": [],
   "source": [
    "new_article = df['text'][65]\n",
    "cluster_articles = df['text'][[99, 275]]"
   ]
  },
  {
   "cell_type": "code",
   "execution_count": 14,
   "metadata": {},
   "outputs": [],
   "source": [
    "import nltk\n",
    "\n",
    "cluster_sentences = [sentence for text in cluster_articles for sentence in nltk.sent_tokenize(text)]\n",
    "article_sentences = nltk.sent_tokenize(new_article)\n",
    "    \n",
    "cluster_embeddings = [nlp(i) for i in cluster_sentences]\n",
    "article_embeddings = [nlp(i) for i in article_sentences]"
   ]
  },
  {
   "cell_type": "code",
   "execution_count": 15,
   "metadata": {},
   "outputs": [
    {
     "data": {
      "text/plain": [
       "['В Южно-Сахалинске отмечена вспышка заболевания холерой.',\n",
       " 'На сегодняшний день заболели уже 14 жителей, 26 являются носителями вируса.',\n",
       " 'Все эти люди и еще 12 человек, имевших контакт с больными, госпитализированы, сообщили РИА \"Новости\" в МЧС РФ.',\n",
       " 'Первые случаи заболевания были отмечены в минувший вторник.',\n",
       " 'Холера вспыхнула среди жителей поселков Христофоровка и Октябрьский, расположенных в районе аэропорта Южно-Сахалинск.',\n",
       " 'Поселки находятся в ведении одной из расположенных поблизости воинских частей.',\n",
       " 'Причиной вспышки вирусного заболевания стало невнимание военных к вопросам санитарии: нерегулярная очистка территории и плохое состояние системы водоснабжения военного городка.',\n",
       " 'Власти области и Южно-Сахалинска ведут в очаге холеры очистку подвальных помещений жилых домов, дезинфикационные мероприятия на реке Хомутовка и роднике.',\n",
       " 'На заседании санитарно-эпидемиологической комиссии, прошедшем сегодня в администрации Сахалинской области, принято решение произвести дополнительные работы по санитарной очистке поселков Христофоровка и Октябрьский.',\n",
       " 'Срок окончания уборки мусора - 15 час 7 сентября, до пятницы - срок сооружения дополнительных выгребных ям - 10 сентября.',\n",
       " 'В связи с тем, что в семьях двух учеников есть заболевшие холерой, в Южно-Сахалинске закрыты на карантин две средние школы.',\n",
       " 'В течение трех дней будут изучаться анализы каждого учащегося, и если холеры не обнаружится, школы вновь начнут работу.',\n",
       " 'Как сообщил сегодня корреспонденту ИТАР-ТАСС исполняющий обязанности главного санитарного врача Сахалинской области Борис Дарижапов, холерный вибрион класса \"огава\", выделенный во внешней среде, идентичен завезенному в Приморье и на Сахалин летом этого года туристами из Китая.',\n",
       " 'Теперь предстоит сложная задача по выявлению круга лиц, общавшихся с больными и сахалинцами, посещавшими соседнюю страну.',\n",
       " 'В Сахалинской области в реке Сусуя, протекающей прямо по административному центру островного края, обнаружен очаг холеры.',\n",
       " 'Как сообщает ИТАР-ТАСС со ссылкой на центр Госсанэпиднадзора России по Сахалинской области, вибрион инфекционного заболевания был выявлен сразу в нескольких точках - пригородных поселках Хомутово, Октябрьское и Владимировка, а также непосредственно в черте города Южно-Сахалинска.',\n",
       " '\"Специалисты выявили вибрион у 11 жителей областного центра, а у 11 других зафиксирована эта болезнь\", - сообщил заместитель главного санитарного врача Сахалинской области Борис Дарижапов.',\n",
       " 'Однако он предостерег от из излишней паники: \"Климатические характеристики нашего островного края предполагают, что на Сахалине и Курилах нет природной среды для обитания холерного вибриона\".',\n",
       " 'По мнению санитарных врачей области, холерный вибрион был завезен на острова частными предпринимателями из Китая.']"
      ]
     },
     "execution_count": 15,
     "metadata": {},
     "output_type": "execute_result"
    }
   ],
   "source": [
    "cluster_sentences"
   ]
  },
  {
   "cell_type": "code",
   "execution_count": 23,
   "metadata": {},
   "outputs": [
    {
     "data": {
      "text/plain": [
       "['Поселок Хомутово в пригороде Южно-Сахалинска объявлен очагом холеры и сегодня там выявлено уже 8 больных этой инфекционной болезнью.',\n",
       " 'Как сообщил корреспонденту ИТАР-ТАСС исполняющий обязанности главного санитарного врача Сахалинской области Борис Дарижапов, в реке Хомутовка обнаружен холерный вибрион класса \"огава\".',\n",
       " 'Большинство заболевших использовало воду из этой реки в качестве питьевой.',\n",
       " 'Ликвидация очага холеры связана с большими трудностями, поскольку на территории поселка Хомутово размещается воинская часть ПВО России.',\n",
       " '\"Мы понимаем военных, у них нет средств и здесь серъезную помощь оказывают власти Южно-Сахалинска\", - рассказал Борис Дарижапов.',\n",
       " 'В зоне инфекции сегодня ведется очистка подвалов жилых домови родника, в котором также обнаружен холерный вибрион.']"
      ]
     },
     "execution_count": 23,
     "metadata": {},
     "output_type": "execute_result"
    }
   ],
   "source": [
    "article_sentences"
   ]
  },
  {
   "cell_type": "code",
   "execution_count": 48,
   "metadata": {},
   "outputs": [],
   "source": [
    "def sentence_cluster_distances(embedder, article_sentences, cluster_sentences):\n",
    "    article_min_distances = []\n",
    "    \n",
    "    cluster_embeddings = embedder(cluster_sentences)\n",
    "    article_embeddings = embedder(article_sentences)\n",
    "    \n",
    "    for article_sentence_embedding in article_embeddings:\n",
    "        # Рандомное значение\n",
    "        min_distance = 1000\n",
    "        \n",
    "        for cluster_sentence_embedding in cluster_embeddings:\n",
    "            distance = np.linalg.norm(article_sentence_embedding - cluster_sentence_embedding)\n",
    "\n",
    "            if distance < min_distance:\n",
    "                min_distance = distance\n",
    "\n",
    "        article_min_distances.append(min_distance)\n",
    "    \n",
    "    return article_min_distances"
   ]
  },
  {
   "cell_type": "code",
   "execution_count": 62,
   "metadata": {},
   "outputs": [],
   "source": [
    "def nlp_sentence_embedder(sentences):\n",
    "    return [nlp(i) for i in sentences]\n",
    "\n",
    "bert_sentence_distances = sentence_cluster_distances(nlp_sentence_embedder, article_sentences, cluster_sentences)"
   ]
  },
  {
   "cell_type": "code",
   "execution_count": 28,
   "metadata": {},
   "outputs": [],
   "source": [
    "from deeppavlov import configs, build_model\n",
    "from deeppavlov.models.embedders.elmo_embedder import ELMoEmbedder"
   ]
  },
  {
   "cell_type": "code",
   "execution_count": 3,
   "metadata": {},
   "outputs": [
    {
     "name": "stdout",
     "output_type": "stream",
     "text": [
      "WARNING:tensorflow:From /home/vsmaxim8/anaconda3/lib/python3.7/site-packages/deeppavlov/models/embedders/elmo_embedder.py:186: The name tf.ConfigProto is deprecated. Please use tf.compat.v1.ConfigProto instead.\n",
      "\n"
     ]
    },
    {
     "name": "stderr",
     "output_type": "stream",
     "text": [
      "WARNING:tensorflow:From /home/vsmaxim8/anaconda3/lib/python3.7/site-packages/deeppavlov/models/embedders/elmo_embedder.py:186: The name tf.ConfigProto is deprecated. Please use tf.compat.v1.ConfigProto instead.\n",
      "\n"
     ]
    },
    {
     "name": "stdout",
     "output_type": "stream",
     "text": [
      "WARNING:tensorflow:From /home/vsmaxim8/anaconda3/lib/python3.7/site-packages/deeppavlov/models/embedders/elmo_embedder.py:188: The name tf.Session is deprecated. Please use tf.compat.v1.Session instead.\n",
      "\n"
     ]
    },
    {
     "name": "stderr",
     "output_type": "stream",
     "text": [
      "WARNING:tensorflow:From /home/vsmaxim8/anaconda3/lib/python3.7/site-packages/deeppavlov/models/embedders/elmo_embedder.py:188: The name tf.Session is deprecated. Please use tf.compat.v1.Session instead.\n",
      "\n"
     ]
    },
    {
     "name": "stdout",
     "output_type": "stream",
     "text": [
      "WARNING:tensorflow:From /home/vsmaxim8/anaconda3/lib/python3.7/site-packages/deeppavlov/models/embedders/elmo_embedder.py:190: The name tf.placeholder is deprecated. Please use tf.compat.v1.placeholder instead.\n",
      "\n"
     ]
    },
    {
     "name": "stderr",
     "output_type": "stream",
     "text": [
      "WARNING:tensorflow:From /home/vsmaxim8/anaconda3/lib/python3.7/site-packages/deeppavlov/models/embedders/elmo_embedder.py:190: The name tf.placeholder is deprecated. Please use tf.compat.v1.placeholder instead.\n",
      "\n"
     ]
    },
    {
     "name": "stdout",
     "output_type": "stream",
     "text": [
      "INFO:tensorflow:Saver not created because there are no variables in the graph to restore\n"
     ]
    },
    {
     "name": "stderr",
     "output_type": "stream",
     "text": [
      "INFO:tensorflow:Saver not created because there are no variables in the graph to restore\n"
     ]
    },
    {
     "name": "stdout",
     "output_type": "stream",
     "text": [
      "WARNING:tensorflow:From /home/vsmaxim8/anaconda3/lib/python3.7/site-packages/deeppavlov/models/embedders/elmo_embedder.py:198: The name tf.global_variables_initializer is deprecated. Please use tf.compat.v1.global_variables_initializer instead.\n",
      "\n"
     ]
    },
    {
     "name": "stderr",
     "output_type": "stream",
     "text": [
      "WARNING:tensorflow:From /home/vsmaxim8/anaconda3/lib/python3.7/site-packages/deeppavlov/models/embedders/elmo_embedder.py:198: The name tf.global_variables_initializer is deprecated. Please use tf.compat.v1.global_variables_initializer instead.\n",
      "\n"
     ]
    }
   ],
   "source": [
    "elmo_paraphrase_embedder = ELMoEmbedder(\"http://files.deeppavlov.ai/deeppavlov_data/elmo_news_wmt11-16-simple_reduce_para_pretrain_fine_tuned_ep1.tar.gz\")"
   ]
  },
  {
   "cell_type": "code",
   "execution_count": 45,
   "metadata": {},
   "outputs": [],
   "source": [
    "def elmo_sentence_embedder(sentences):\n",
    "    tokenized_sentences = [nltk.word_tokenize(sentence) for sentence in sentences]\n",
    "    return elmo_paraphrase_embedder(tokenized_sentences)"
   ]
  },
  {
   "cell_type": "code",
   "execution_count": 16,
   "metadata": {},
   "outputs": [
    {
     "ename": "NameError",
     "evalue": "name 'sentence_cluster_distances' is not defined",
     "output_type": "error",
     "traceback": [
      "\u001B[0;31m---------------------------------------------------------------------------\u001B[0m",
      "\u001B[0;31mNameError\u001B[0m                                 Traceback (most recent call last)",
      "\u001B[0;32m<ipython-input-16-6d16406fdd4c>\u001B[0m in \u001B[0;36m<module>\u001B[0;34m\u001B[0m\n\u001B[0;32m----> 1\u001B[0;31m \u001B[0melmo_distances\u001B[0m \u001B[0;34m=\u001B[0m \u001B[0msentence_cluster_distances\u001B[0m\u001B[0;34m(\u001B[0m\u001B[0melmo_sentence_embedder\u001B[0m\u001B[0;34m,\u001B[0m \u001B[0marticle_sentences\u001B[0m\u001B[0;34m,\u001B[0m \u001B[0mcluster_sentences\u001B[0m\u001B[0;34m)\u001B[0m\u001B[0;34m\u001B[0m\u001B[0;34m\u001B[0m\u001B[0m\n\u001B[0m",
      "\u001B[0;31mNameError\u001B[0m: name 'sentence_cluster_distances' is not defined"
     ]
    }
   ],
   "source": [
    "elmo_distances = sentence_cluster_distances(elmo_sentence_embedder, article_sentences, cluster_sentences)"
   ]
  },
  {
   "cell_type": "code",
   "execution_count": 55,
   "metadata": {},
   "outputs": [],
   "source": [
    "def threshold_new_sentences(sentences, sentence_distances, threshold):\n",
    "    distances = np.array(sentence_distances)\n",
    "    new_sentences_desc = distances > threshold\n",
    "    new_sentences = []\n",
    "\n",
    "    for index, is_new in enumerate(new_sentences_desc):\n",
    "        if is_new:\n",
    "            new_sentences.append(sentences[index])\n",
    "\n",
    "    return new_sentences"
   ]
  },
  {
   "cell_type": "code",
   "execution_count": 64,
   "metadata": {},
   "outputs": [
    {
     "data": {
      "text/plain": [
       "['Большинство заболевших использовало воду из этой реки в качестве питьевой.',\n",
       " 'Ликвидация очага холеры связана с большими трудностями, поскольку на территории поселка Хомутово размещается воинская часть ПВО России.',\n",
       " '\"Мы понимаем военных, у них нет средств и здесь серъезную помощь оказывают власти Южно-Сахалинска\", - рассказал Борис Дарижапов.']"
      ]
     },
     "execution_count": 64,
     "metadata": {},
     "output_type": "execute_result"
    }
   ],
   "source": [
    "# Тоже зафайнтюненное значение\n",
    "threshold_new_sentences(article_sentences, elmo_distances, 7)"
   ]
  },
  {
   "cell_type": "code",
   "execution_count": 65,
   "metadata": {},
   "outputs": [
    {
     "data": {
      "text/plain": [
       "['Большинство заболевших использовало воду из этой реки в качестве питьевой.',\n",
       " 'Ликвидация очага холеры связана с большими трудностями, поскольку на территории поселка Хомутово размещается воинская часть ПВО России.']"
      ]
     },
     "execution_count": 65,
     "metadata": {},
     "output_type": "execute_result"
    }
   ],
   "source": [
    "threshold_new_sentences(article_sentences, bert_sentence_distances, 8)"
   ]
  },
  {
   "cell_type": "code",
   "execution_count": null,
   "metadata": {},
   "outputs": [],
   "source": []
  }
 ],
 "metadata": {
  "celltoolbar": "Raw Cell Format",
  "kernelspec": {
   "display_name": "Python 3",
   "language": "python",
   "name": "python3"
  },
  "language_info": {
   "codemirror_mode": {
    "name": "ipython",
    "version": 3
   },
   "file_extension": ".py",
   "mimetype": "text/x-python",
   "name": "python",
   "nbconvert_exporter": "python",
   "pygments_lexer": "ipython3",
   "version": "3.7.7"
  }
 },
 "nbformat": 4,
 "nbformat_minor": 4
}